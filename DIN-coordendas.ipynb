{
 "cells": [
  {
   "cell_type": "code",
   "execution_count": 1,
   "metadata": {},
   "outputs": [],
   "source": [
    "import numpy as np #importar libreria matematica\n",
    "import plotly.express as px #herramienta de plot\n",
    "import plotly.graph_objects as go"
   ]
  },
  {
   "cell_type": "markdown",
   "metadata": {},
   "source": [
    "# Potential Energy: Mechanical Energy\n",
    "\n",
    "![title](ejercicio.jpeg)\n",
    "\n",
    ">The 0.5-kg cylinder A is released from rest from the position shown and drops the distance h1=0.6 m. It then collides with the 0.4-kg block B; the coefﬁcient of restitution is e=0.8.\n",
    "\n",
    "- Determine the maximum downward displacement h2 of block B. Neglect all friction and assume that block B is initially held in place by a hidden mechanism until the collision begins. The two springs of modulus k=500 N/m are initially unstretched, and the distance d=0.8 m.\n",
    "\n"
   ]
  },
  {
   "cell_type": "markdown",
   "metadata": {},
   "source": [
    "# Solution \n",
    " Data:\n",
    " <dt> ma=0.5 [kg]<dt> mb=0,4 [kg] <dt> h1=0,6 [m] <dt> k=500 [N/m] <dt> e=0,8\n",
    "<dt> <dt> 1.- For the first step it is necessary to apply the Mechanical energy conservation principle for block A [with this we find the collision speed of block A]"
   ]
  },
  {
   "cell_type": "markdown",
   "metadata": {},
   "source": [
    "# DCL: A\n",
    "![title](dcl1.1.jpeg)\n"
   ]
  },
  {
   "cell_type": "markdown",
   "metadata": {},
   "source": [
    "\n",
    "$$\\vartriangle{EM_A}=0$$ <dt> <dt> $$E_{cAo}+E_{pgAo}=E_{cAf}+E_{pgAf}$$ <dt> <dt> We have to: <dt> <dt> $$E_{cAo}=E_{pgAf}=0$$ <dt> <dt> Then: <dt> <dt> $$m_agh_1= \\frac{1}{2}m_a{V_A}^2$$ <dt> <dt>  $$V_A=\\sqrt{2gh_1}$$ <dt> The speed with which block a reaches block b is: <dt> $$V_A=3,43 \\hspace{3mm} [\\frac{m}{s}]$$ <dt> <dt> \n",
    " \n"
   ]
  },
  {
   "cell_type": "markdown",
   "metadata": {},
   "source": [
    "2.- For the second step, the conservation of linear momentum is applied to find a relationship between speeds."
   ]
  },
  {
   "cell_type": "markdown",
   "metadata": {},
   "source": [
    "# DCL: In the collision\n",
    "![title](dcl2.jpeg)"
   ]
  },
  {
   "cell_type": "markdown",
   "metadata": {},
   "source": [
    "<dt> $$\\vartriangle{P}=0$$ <dt> $$P_o=P_f$$ <dt> $$V_Am_A+V_BmB=V_{Af}mA+V_{Bf}mB$$ <dt> From where a first equation is obtained: <dt> $$1,715=0.5V_{Af}+0,4V_{Bf}  \\hspace{3cm} (a) $$ <dt> 3.-It is necessary to apply the coefficient of restitution to find the velocity of block B <dt> $$e=-\\frac{V_{Af}-V_{Bf}}{V_A-V_B}$$ <dt> From here we have a second equation: <dt> $$V_{Af}-V_{Bf}=-2,744 \\hspace{4cm} (b)$$ <dt> From a and b we have the following system of equations: <dt> \n",
    "$$\n",
    "\\left.\n",
    "0,5V_{Af} + 0,4V_{Bf}  = 1,715 \\atop\n",
    "V_{Af}-V_{Bf} = -2,744\n",
    "\\right\\}$$\n",
    "<dt> From where we get the speed with which B leaves: <dt> $$V_{Bf}=3,43 \\hspace{2mm} \\frac{m}{s}$$ <dt>"
   ]
  },
  {
   "cell_type": "markdown",
   "metadata": {},
   "source": [
    "4.- We apply the conservation of mechanical energy again, but this time for block B, to finally find the distance that is displaced vertically."
   ]
  },
  {
   "cell_type": "markdown",
   "metadata": {},
   "source": [
    "# DCL: B\n",
    "![title](dcl3.jpeg)"
   ]
  },
  {
   "cell_type": "markdown",
   "metadata": {},
   "source": [
    "$$\\vartriangle{EM_B}=0$$ <dt> $$E_{cBo}+E_{pgBo}+E_{peBo}=E_{cBf}+E_{pgBf}+E_{peBf}$$ <dt> We have to: <dt> $$E_{peBo}=E_{cBf}=E_{pgBf}=0$$ <dt> Then: <dt> $$\\frac{1}{2}m_b{V_Bf}^2+m_bgh_2=2(\\frac{1}{2}Kx^2)$$ <dt> To determine the final deformation we have: "
   ]
  },
  {
   "cell_type": "markdown",
   "metadata": {},
   "source": [
    "![title](def.jpeg)"
   ]
  },
  {
   "cell_type": "markdown",
   "metadata": {},
   "source": [
    ">$$x=L-L_o$$ <dt> $$L_o=0,8$$ <dt> Then: <dt> $$x=\\sqrt{h_2^2+0,8^2}-0,8$$ <dt> Returning to the mechanical energy equation we have: <dt> $$0,2 (3,43)^2+0,4 (9,81)h_2=500 (\\sqrt{h_2^2+0,8^2}-0,8)^2$$ <dt> Where: <dt> $$h_2=0,385  \\hspace{3mm} [m]$$"
   ]
  },
  {
   "cell_type": "code",
   "execution_count": null,
   "metadata": {},
   "outputs": [],
   "source": []
  }
 ],
 "metadata": {
  "kernelspec": {
   "display_name": "Python 3",
   "language": "python",
   "name": "python3"
  },
  "language_info": {
   "codemirror_mode": {
    "name": "ipython",
    "version": 3
   },
   "file_extension": ".py",
   "mimetype": "text/x-python",
   "name": "python",
   "nbconvert_exporter": "python",
   "pygments_lexer": "ipython3",
   "version": "3.8.8"
  }
 },
 "nbformat": 4,
 "nbformat_minor": 4
}
